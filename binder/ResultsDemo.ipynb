{
 "cells": [
  {
   "cell_type": "code",
   "execution_count": 1,
   "metadata": {},
   "outputs": [],
   "source": [
    "import scrapbook as sb"
   ]
  },
  {
   "cell_type": "code",
   "execution_count": 2,
   "metadata": {},
   "outputs": [],
   "source": [
    "book = sb.read_notebooks('../scrapbook/tests/notebooks/collection')"
   ]
  },
  {
   "cell_type": "code",
   "execution_count": 3,
   "metadata": {},
   "outputs": [
    {
     "data": {
      "text/markdown": [
       "### result1"
      ],
      "text/plain": [
       "<IPython.core.display.Markdown object>"
      ]
     },
     "metadata": {},
     "output_type": "display_data"
    },
    {
     "data": {
      "text/markdown": [
       "#### output"
      ],
      "text/plain": [
       "<IPython.core.display.Markdown object>"
      ]
     },
     "metadata": {},
     "output_type": "display_data"
    },
    {
     "data": {
      "text/plain": [
       "'Hello World!'"
      ]
     },
     "metadata": {
      "papermill": {
       "name": "output"
      }
     },
     "output_type": "display_data"
    },
    {
     "data": {
      "text/markdown": [
       "#### one_only"
      ],
      "text/plain": [
       "<IPython.core.display.Markdown object>"
      ]
     },
     "metadata": {},
     "output_type": "display_data"
    },
    {
     "data": {
      "text/plain": [
       "'Just here!'"
      ]
     },
     "metadata": {
      "scrapbook": {
       "name": "one_only"
      }
     },
     "output_type": "display_data"
    },
    {
     "data": {
      "text/markdown": [
       "<hr>"
      ],
      "text/plain": [
       "<IPython.core.display.Markdown object>"
      ]
     },
     "metadata": {},
     "output_type": "display_data"
    },
    {
     "data": {
      "text/markdown": [
       "### result2"
      ],
      "text/plain": [
       "<IPython.core.display.Markdown object>"
      ]
     },
     "metadata": {},
     "output_type": "display_data"
    },
    {
     "data": {
      "text/markdown": [
       "#### output"
      ],
      "text/plain": [
       "<IPython.core.display.Markdown object>"
      ]
     },
     "metadata": {},
     "output_type": "display_data"
    },
    {
     "data": {
      "text/plain": [
       "'Hello World 2!'"
      ]
     },
     "metadata": {
      "papermill": {
       "name": "output"
      }
     },
     "output_type": "display_data"
    },
    {
     "data": {
      "text/markdown": [
       "#### two_only"
      ],
      "text/plain": [
       "<IPython.core.display.Markdown object>"
      ]
     },
     "metadata": {},
     "output_type": "display_data"
    },
    {
     "data": {
      "text/plain": [
       "'Just here!'"
      ]
     },
     "metadata": {
      "scrapbook": {
       "name": "two_only"
      }
     },
     "output_type": "display_data"
    }
   ],
   "source": [
    "book.display()"
   ]
  },
  {
   "cell_type": "code",
   "execution_count": 4,
   "metadata": {},
   "outputs": [
    {
     "data": {
      "text/plain": [
       "{'result1': OrderedDict([('one', 1),\n",
       "              ('number', 1),\n",
       "              ('list', [1, 2, 3]),\n",
       "              ('dict', {'a': 1, 'b': 2})]),\n",
       " 'result2': OrderedDict([('two', 2),\n",
       "              ('number', 2),\n",
       "              ('list', [4, 5, 6]),\n",
       "              ('dict', {'a': 3, 'b': 4})])}"
      ]
     },
     "execution_count": 4,
     "metadata": {},
     "output_type": "execute_result"
    }
   ],
   "source": [
    "book.scraps"
   ]
  },
  {
   "cell_type": "code",
   "execution_count": 5,
   "metadata": {},
   "outputs": [
    {
     "data": {
      "text/plain": [
       "OrderedDict([('one', 1),\n",
       "             ('number', 2),\n",
       "             ('list', [4, 5, 6]),\n",
       "             ('dict', {'a': 3, 'b': 4}),\n",
       "             ('two', 2)])"
      ]
     },
     "execution_count": 5,
     "metadata": {},
     "output_type": "execute_result"
    }
   ],
   "source": [
    "book.combined_scraps"
   ]
  },
  {
   "cell_type": "code",
   "execution_count": 6,
   "metadata": {},
   "outputs": [
    {
     "data": {
      "text/plain": [
       "{'result1': OrderedDict([('output',\n",
       "               {'data': {'text/plain': \"'Hello World!'\"},\n",
       "                'metadata': {'papermill': {'name': 'output'}},\n",
       "                'output_type': 'display_data'}),\n",
       "              ('one_only',\n",
       "               {'data': {'text/plain': \"'Just here!'\"},\n",
       "                'metadata': {'scrapbook': {'name': 'one_only'}},\n",
       "                'output_type': 'display_data'})]),\n",
       " 'result2': OrderedDict([('output',\n",
       "               {'data': {'text/plain': \"'Hello World 2!'\"},\n",
       "                'metadata': {'papermill': {'name': 'output'}},\n",
       "                'output_type': 'display_data'}),\n",
       "              ('two_only',\n",
       "               {'data': {'text/plain': \"'Just here!'\"},\n",
       "                'metadata': {'scrapbook': {'name': 'two_only'}},\n",
       "                'output_type': 'display_data'})])}"
      ]
     },
     "execution_count": 6,
     "metadata": {},
     "output_type": "execute_result"
    }
   ],
   "source": [
    "book.frames"
   ]
  },
  {
   "cell_type": "code",
   "execution_count": 7,
   "metadata": {},
   "outputs": [
    {
     "data": {
      "text/plain": [
       "OrderedDict([('output',\n",
       "              {'data': {'text/plain': \"'Hello World 2!'\"},\n",
       "               'metadata': {'papermill': {'name': 'output'}},\n",
       "               'output_type': 'display_data'}),\n",
       "             ('one_only',\n",
       "              {'data': {'text/plain': \"'Just here!'\"},\n",
       "               'metadata': {'scrapbook': {'name': 'one_only'}},\n",
       "               'output_type': 'display_data'}),\n",
       "             ('two_only',\n",
       "              {'data': {'text/plain': \"'Just here!'\"},\n",
       "               'metadata': {'scrapbook': {'name': 'two_only'}},\n",
       "               'output_type': 'display_data'})])"
      ]
     },
     "execution_count": 7,
     "metadata": {},
     "output_type": "execute_result"
    }
   ],
   "source": [
    "book.combined_frames"
   ]
  },
  {
   "cell_type": "code",
   "execution_count": 8,
   "metadata": {},
   "outputs": [
    {
     "data": {
      "application/scrapbook.scrap+json": {
       "collection_keys": [
        "one",
        "number",
        "list",
        "dict",
        "two"
       ]
      }
     },
     "metadata": {},
     "output_type": "display_data"
    }
   ],
   "source": [
    "sb.glue('collection_keys', list(book.combined_scraps.keys()))"
   ]
  }
 ],
 "metadata": {
  "kernelspec": {
   "display_name": "Python 3",
   "language": "python",
   "name": "python3"
  },
  "language_info": {
   "codemirror_mode": {
    "name": "ipython",
    "version": 3
   },
   "file_extension": ".py",
   "mimetype": "text/x-python",
   "name": "python",
   "nbconvert_exporter": "python",
   "pygments_lexer": "ipython3",
   "version": "3.6.3"
  }
 },
 "nbformat": 4,
 "nbformat_minor": 2
}
